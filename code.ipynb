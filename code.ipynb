{
 "cells": [
  {
   "cell_type": "code",
   "execution_count": 1,
   "id": "652916f9",
   "metadata": {},
   "outputs": [],
   "source": [
    "import pandas as pd"
   ]
  },
  {
   "cell_type": "code",
   "execution_count": 2,
   "id": "9a6bb59c",
   "metadata": {},
   "outputs": [],
   "source": [
    "housing=pd.read_csv(\"Book1.csv\")  ##used to retrive data from excel,, Read a comma-separated values (csv) file into DataFrame CSV file format is a bounded text document that uses a comma to distinguish the values"
   ]
  },
  {
   "cell_type": "code",
   "execution_count": 3,
   "id": "5aaa8278",
   "metadata": {
    "scrolled": true
   },
   "outputs": [
    {
     "data": {
      "text/html": [
       "<div>\n",
       "<style scoped>\n",
       "    .dataframe tbody tr th:only-of-type {\n",
       "        vertical-align: middle;\n",
       "    }\n",
       "\n",
       "    .dataframe tbody tr th {\n",
       "        vertical-align: top;\n",
       "    }\n",
       "\n",
       "    .dataframe thead th {\n",
       "        text-align: right;\n",
       "    }\n",
       "</style>\n",
       "<table border=\"1\" class=\"dataframe\">\n",
       "  <thead>\n",
       "    <tr style=\"text-align: right;\">\n",
       "      <th></th>\n",
       "      <th>CRIM</th>\n",
       "      <th>ZN</th>\n",
       "      <th>INDUS</th>\n",
       "      <th>TOP</th>\n",
       "      <th>NOX</th>\n",
       "      <th>SS</th>\n",
       "      <th>AGE</th>\n",
       "      <th>DIS</th>\n",
       "      <th>RAD</th>\n",
       "      <th>TAX</th>\n",
       "      <th>PTRATIO</th>\n",
       "      <th>B</th>\n",
       "      <th>LSTAT</th>\n",
       "      <th>MP</th>\n",
       "    </tr>\n",
       "  </thead>\n",
       "  <tbody>\n",
       "    <tr>\n",
       "      <th>0</th>\n",
       "      <td>0.00632</td>\n",
       "      <td>18.0</td>\n",
       "      <td>2.31</td>\n",
       "      <td>0</td>\n",
       "      <td>0.538</td>\n",
       "      <td>6.575</td>\n",
       "      <td>65.2</td>\n",
       "      <td>4.0900</td>\n",
       "      <td>1.0</td>\n",
       "      <td>296.0</td>\n",
       "      <td>15.3</td>\n",
       "      <td>396.90</td>\n",
       "      <td>4.98</td>\n",
       "      <td>24.0</td>\n",
       "    </tr>\n",
       "    <tr>\n",
       "      <th>1</th>\n",
       "      <td>0.02731</td>\n",
       "      <td>0.0</td>\n",
       "      <td>7.07</td>\n",
       "      <td>0</td>\n",
       "      <td>0.469</td>\n",
       "      <td>6.421</td>\n",
       "      <td>78.9</td>\n",
       "      <td>4.9671</td>\n",
       "      <td>2.0</td>\n",
       "      <td>242.0</td>\n",
       "      <td>17.8</td>\n",
       "      <td>396.90</td>\n",
       "      <td>9.14</td>\n",
       "      <td>21.6</td>\n",
       "    </tr>\n",
       "    <tr>\n",
       "      <th>2</th>\n",
       "      <td>0.02729</td>\n",
       "      <td>0.0</td>\n",
       "      <td>7.07</td>\n",
       "      <td>0</td>\n",
       "      <td>0.469</td>\n",
       "      <td>7.185</td>\n",
       "      <td>61.1</td>\n",
       "      <td>4.9671</td>\n",
       "      <td>2.0</td>\n",
       "      <td>242.0</td>\n",
       "      <td>17.8</td>\n",
       "      <td>392.83</td>\n",
       "      <td>4.03</td>\n",
       "      <td>34.7</td>\n",
       "    </tr>\n",
       "    <tr>\n",
       "      <th>3</th>\n",
       "      <td>0.03237</td>\n",
       "      <td>0.0</td>\n",
       "      <td>2.18</td>\n",
       "      <td>0</td>\n",
       "      <td>0.458</td>\n",
       "      <td>6.998</td>\n",
       "      <td>45.8</td>\n",
       "      <td>6.0622</td>\n",
       "      <td>3.0</td>\n",
       "      <td>222.0</td>\n",
       "      <td>18.7</td>\n",
       "      <td>394.63</td>\n",
       "      <td>2.94</td>\n",
       "      <td>33.4</td>\n",
       "    </tr>\n",
       "    <tr>\n",
       "      <th>4</th>\n",
       "      <td>0.06905</td>\n",
       "      <td>0.0</td>\n",
       "      <td>2.18</td>\n",
       "      <td>0</td>\n",
       "      <td>0.458</td>\n",
       "      <td>7.147</td>\n",
       "      <td>54.2</td>\n",
       "      <td>6.0622</td>\n",
       "      <td>3.0</td>\n",
       "      <td>222.0</td>\n",
       "      <td>18.7</td>\n",
       "      <td>396.90</td>\n",
       "      <td>5.33</td>\n",
       "      <td>36.2</td>\n",
       "    </tr>\n",
       "  </tbody>\n",
       "</table>\n",
       "</div>"
      ],
      "text/plain": [
       "      CRIM    ZN  INDUS   TOP    NOX     SS   AGE     DIS   RAD     TAX  \\\n",
       "0  0.00632  18.0    2.31    0  0.538  6.575  65.2  4.0900    1.0  296.0   \n",
       "1  0.02731   0.0    7.07    0  0.469  6.421  78.9  4.9671    2.0  242.0   \n",
       "2  0.02729   0.0    7.07    0  0.469  7.185  61.1  4.9671    2.0  242.0   \n",
       "3  0.03237   0.0    2.18    0  0.458  6.998  45.8  6.0622    3.0  222.0   \n",
       "4  0.06905   0.0    2.18    0  0.458  7.147  54.2  6.0622    3.0  222.0   \n",
       "\n",
       "   PTRATIO      B   LSTAT    MP  \n",
       "0     15.3  396.90   4.98  24.0  \n",
       "1     17.8  396.90   9.14  21.6  \n",
       "2     17.8  392.83   4.03  34.7  \n",
       "3     18.7  394.63   2.94  33.4  \n",
       "4     18.7  396.90   5.33  36.2  "
      ]
     },
     "execution_count": 3,
     "metadata": {},
     "output_type": "execute_result"
    }
   ],
   "source": [
    "housing.head()"
   ]
  },
  {
   "cell_type": "code",
   "execution_count": 4,
   "id": "d609473c",
   "metadata": {},
   "outputs": [
    {
     "name": "stdout",
     "output_type": "stream",
     "text": [
      "<class 'pandas.core.frame.DataFrame'>\n",
      "RangeIndex: 506 entries, 0 to 505\n",
      "Data columns (total 14 columns):\n",
      " #   Column   Non-Null Count  Dtype  \n",
      "---  ------   --------------  -----  \n",
      " 0   CRIM     506 non-null    float64\n",
      " 1   ZN       506 non-null    float64\n",
      " 2   INDUS    505 non-null    float64\n",
      " 3   TOP      506 non-null    int64  \n",
      " 4   NOX      505 non-null    float64\n",
      " 5   SS       502 non-null    float64\n",
      " 6   AGE      504 non-null    float64\n",
      " 7   DIS      505 non-null    float64\n",
      " 8    RAD     505 non-null    float64\n",
      " 9   TAX      505 non-null    float64\n",
      " 10  PTRATIO  506 non-null    float64\n",
      " 11  B        505 non-null    float64\n",
      " 12  LSTAT    506 non-null    float64\n",
      " 13  MP       506 non-null    float64\n",
      "dtypes: float64(13), int64(1)\n",
      "memory usage: 55.5 KB\n"
     ]
    }
   ],
   "source": [
    "housing.info()"
   ]
  },
  {
   "cell_type": "markdown",
   "id": "afb9352f",
   "metadata": {},
   "source": [
    "from sklearn.model_selection import train_test_split  ## here we import direct function\n",
    "train_set,test_set=train_test_split(housing,test_size=0.2,random_state=42) ## these used to spit out data set into trainee data                                                                                                                  and test data"
   ]
  },
  {
   "cell_type": "code",
   "execution_count": 5,
   "id": "63c02d7a",
   "metadata": {},
   "outputs": [
    {
     "data": {
      "text/plain": [
       "0    471\n",
       "1     35\n",
       "Name: TOP, dtype: int64"
      ]
     },
     "execution_count": 5,
     "metadata": {},
     "output_type": "execute_result"
    }
   ],
   "source": [
    "housing['TOP'].value_counts()"
   ]
  },
  {
   "cell_type": "code",
   "execution_count": 6,
   "id": "78743bcb",
   "metadata": {},
   "outputs": [],
   "source": [
    "%matplotlib inline"
   ]
  },
  {
   "cell_type": "code",
   "execution_count": 7,
   "id": "54af7308",
   "metadata": {},
   "outputs": [],
   "source": [
    "import matplotlib.pyplot as plt"
   ]
  },
  {
   "cell_type": "code",
   "execution_count": 8,
   "id": "432f447e",
   "metadata": {},
   "outputs": [
    {
     "data": {
      "text/plain": [
       "array([[<AxesSubplot: title={'center': 'CRIM'}>,\n",
       "        <AxesSubplot: title={'center': 'ZN'}>,\n",
       "        <AxesSubplot: title={'center': 'INDUS '}>,\n",
       "        <AxesSubplot: title={'center': 'TOP'}>],\n",
       "       [<AxesSubplot: title={'center': 'NOX'}>,\n",
       "        <AxesSubplot: title={'center': 'SS'}>,\n",
       "        <AxesSubplot: title={'center': 'AGE'}>,\n",
       "        <AxesSubplot: title={'center': 'DIS'}>],\n",
       "       [<AxesSubplot: title={'center': ' RAD '}>,\n",
       "        <AxesSubplot: title={'center': 'TAX'}>,\n",
       "        <AxesSubplot: title={'center': 'PTRATIO'}>,\n",
       "        <AxesSubplot: title={'center': 'B '}>],\n",
       "       [<AxesSubplot: title={'center': 'LSTAT'}>,\n",
       "        <AxesSubplot: title={'center': 'MP'}>, <AxesSubplot: >,\n",
       "        <AxesSubplot: >]], dtype=object)"
      ]
     },
     "execution_count": 8,
     "metadata": {},
     "output_type": "execute_result"
    },
    {
     "data": {
      "image/png": "[encoded data removed]",
      "text/plain": [
       "<Figure size 1440x1080 with 16 Axes>"
      ]
     },
     "metadata": {
      "needs_background": "light"
     },
     "output_type": "display_data"
    }
   ],
   "source": [
    "housing.hist(bins=50, figsize=(20,15))"
   ]
  },
  {
   "cell_type": "code",
   "execution_count": 9,
   "id": "629ac4e5",
   "metadata": {},
   "outputs": [],
   "source": [
    "\n",
    "from sklearn.model_selection import StratifiedShuffleSplit\n",
    "split=StratifiedShuffleSplit(n_splits=1,test_size=0.2,random_state=42)              ## this whole is used to split data over training set and testing set equally here we we have important feature CHAS so we have to distribute it becouse if a perticular value comes in larger amount in trainee data set then our model behave different\n",
    "for train_index,test_index in split.split(housing,housing['TOP']):\n",
    "    start_train_set = housing.loc[train_index]\n",
    "    start_test_set = housing.loc[test_index]"
   ]
  },
  {
   "cell_type": "markdown",
   "id": "eb00862c",
   "metadata": {},
   "source": [
    "#  see above example of equal distribution of feature TOP in trainee and tasting data set"
   ]
  },
  {
   "cell_type": "code",
   "execution_count": 10,
   "id": "13092aad",
   "metadata": {},
   "outputs": [
    {
     "data": {
      "text/plain": [
       "0    376\n",
       "1     28\n",
       "Name: TOP, dtype: int64"
      ]
     },
     "execution_count": 10,
     "metadata": {},
     "output_type": "execute_result"
    }
   ],
   "source": [
    "start_train_set['TOP'].value_counts()"
   ]
  },
  {
   "cell_type": "code",
   "execution_count": 11,
   "id": "a863cbea",
   "metadata": {
    "scrolled": false
   },
   "outputs": [
    {
     "data": {
      "text/plain": [
       "0    95\n",
       "1     7\n",
       "Name: TOP, dtype: int64"
      ]
     },
     "execution_count": 11,
     "metadata": {},
     "output_type": "execute_result"
    }
   ],
   "source": [
    "start_test_set['TOP'].value_counts()"
   ]
  },
  {
   "cell_type": "code",
   "execution_count": 12,
   "id": "f3c85af9",
   "metadata": {},
   "outputs": [
    {
     "data": {
      "text/plain": [
       "109.85714285714286"
      ]
     },
     "execution_count": 12,
     "metadata": {},
     "output_type": "execute_result"
    }
   ],
   "source": [
    "3076/28\n"
   ]
  },
  {
   "cell_type": "code",
   "execution_count": 13,
   "id": "755afcd7",
   "metadata": {},
   "outputs": [
    {
     "data": {
      "text/plain": [
       "13.571428571428571"
      ]
     },
     "execution_count": 13,
     "metadata": {},
     "output_type": "execute_result"
    }
   ],
   "source": [
    "95/7"
   ]
  },
  {
   "cell_type": "code",
   "execution_count": 14,
   "id": "a8c23c90",
   "metadata": {},
   "outputs": [],
   "source": [
    "housing= start_train_set.copy()"
   ]
  },
  {
   "cell_type": "markdown",
   "id": "5079cb76",
   "metadata": {},
   "source": [
    "# looking for corelations"
   ]
  },
  {
   "cell_type": "code",
   "execution_count": 15,
   "id": "9347c537",
   "metadata": {},
   "outputs": [],
   "source": [
    "corr_matrix=housing.corr()        ## this used to create corelation martrix   this gives pearsion corelation cofficent\n",
    "                                       ##  pearsion corelation cofficent :: give by increasing the value of feature other feature value increse or decrase\n",
    "                                      ## varies b/w -1 to +1   matlab value kiska kitna effect hoga   \n",
    "                                                                   ## negative ha to decrease hoga positive ha to increase hoga value of feature increase karne pa"
   ]
  },
  {
   "cell_type": "code",
   "execution_count": 16,
   "id": "77639156",
   "metadata": {},
   "outputs": [
    {
     "data": {
      "text/plain": [
       "MP         1.000000\n",
       "SS         0.679975\n",
       "B          0.361580\n",
       "ZN         0.339741\n",
       "DIS        0.240451\n",
       "TOP        0.205066\n",
       "AGE       -0.364596\n",
       " RAD      -0.375385\n",
       "CRIM      -0.393715\n",
       "NOX       -0.423025\n",
       "TAX       -0.457871\n",
       "INDUS     -0.474301\n",
       "PTRATIO   -0.493534\n",
       "LSTAT     -0.740494\n",
       "Name: MP, dtype: float64"
      ]
     },
     "execution_count": 16,
     "metadata": {},
     "output_type": "execute_result"
    }
   ],
   "source": [
    "corr_matrix[\"MP\"].sort_values(ascending=False) ## we find effect of other features on MP \n",
    "                                               ## Mp ka MP pa 1 ha to pura influence ha\n",
    "                                                     ## RM ka MP  0.695360 ha "
   ]
  },
  {
   "cell_type": "code",
   "execution_count": 17,
   "id": "3ef6e02f",
   "metadata": {},
   "outputs": [
    {
     "data": {
      "text/plain": [
       "array([[<AxesSubplot: xlabel='MP', ylabel='MP'>,\n",
       "        <AxesSubplot: xlabel='SS', ylabel='MP'>,\n",
       "        <AxesSubplot: xlabel='ZN', ylabel='MP'>,\n",
       "        <AxesSubplot: xlabel='LSTAT', ylabel='MP'>],\n",
       "       [<AxesSubplot: xlabel='MP', ylabel='SS'>,\n",
       "        <AxesSubplot: xlabel='SS', ylabel='SS'>,\n",
       "        <AxesSubplot: xlabel='ZN', ylabel='SS'>,\n",
       "        <AxesSubplot: xlabel='LSTAT', ylabel='SS'>],\n",
       "       [<AxesSubplot: xlabel='MP', ylabel='ZN'>,\n",
       "        <AxesSubplot: xlabel='SS', ylabel='ZN'>,\n",
       "        <AxesSubplot: xlabel='ZN', ylabel='ZN'>,\n",
       "        <AxesSubplot: xlabel='LSTAT', ylabel='ZN'>],\n",
       "       [<AxesSubplot: xlabel='MP', ylabel='LSTAT'>,\n",
       "        <AxesSubplot: xlabel='SS', ylabel='LSTAT'>,\n",
       "        <AxesSubplot: xlabel='ZN', ylabel='LSTAT'>,\n",
       "        <AxesSubplot: xlabel='LSTAT', ylabel='LSTAT'>]], dtype=object)"
      ]
     },
     "execution_count": 17,
     "metadata": {},
     "output_type": "execute_result"
    },
    {
     "data": {
      "image/png": "[encoded data removed]",
      "text/plain": [
       "<Figure size 864x576 with 16 Axes>"
      ]
     },
     "metadata": {
      "needs_background": "light"
     },
     "output_type": "display_data"
    }
   ],
   "source": [
    "from pandas.plotting import scatter_matrix\n",
    "attributes=[\"MP\",\"SS\",\"ZN\",\"LSTAT\"]                                  ## used to ploat graph but we will see it latter\n",
    "scatter_matrix(housing[attributes],figsize=(12,8))"
   ]
  },
  {
   "cell_type": "code",
   "execution_count": null,
   "id": "001b61f5",
   "metadata": {},
   "outputs": [],
   "source": []
  },
  {
   "cell_type": "markdown",
   "id": "f48c071b",
   "metadata": {},
   "source": [
    "# Missing Attributes(if some feature have a missing values like if DIS have 501 values and TAX ha 506 values)"
   ]
  },
  {
   "cell_type": "code",
   "execution_count": 18,
   "id": "373e7a98",
   "metadata": {},
   "outputs": [],
   "source": [
    "## we have three ways\n",
    "# 1. get rid of missing data points\n",
    "# 2.get rid of whole attribute\n",
    "# 3.set the valus either (0,mean or median)\n",
    "# 4.try to create seprate model. "
   ]
  },
  {
   "cell_type": "code",
   "execution_count": 19,
   "id": "ce303a22",
   "metadata": {},
   "outputs": [
    {
     "data": {
      "text/plain": [
       "(400, 14)"
      ]
     },
     "execution_count": 19,
     "metadata": {},
     "output_type": "execute_result"
    }
   ],
   "source": [
    "a=housing.dropna(subset=[\"SS\"])      #option 1    this will not change in original data frame housing but made changes and put in a\n",
    "a.shape                                         #  and housig data frame is unchanged                                "
   ]
  },
  {
   "cell_type": "code",
   "execution_count": 20,
   "id": "03b774b2",
   "metadata": {
    "scrolled": true
   },
   "outputs": [
    {
     "data": {
      "text/plain": [
       "(404, 13)"
      ]
     },
     "execution_count": 20,
     "metadata": {},
     "output_type": "execute_result"
    }
   ],
   "source": [
    "a=housing.drop(\"SS\",axis=1) \n",
    "a.shape                                      #option 2 this will not change in original data frame housing but made changes and put in a\n",
    "                                       #  and housig data frame is unchanged"
   ]
  },
  {
   "cell_type": "raw",
   "id": "90669156",
   "metadata": {},
   "source": [
    "# as we apply corelations on our whole data set but onl we have to apply on trainee data set sepratly and test sepra\n",
    "# now we apply missing value problem on traiee and teat data set"
   ]
  },
  {
   "cell_type": "code",
   "execution_count": 21,
   "id": "878e802e",
   "metadata": {},
   "outputs": [
    {
     "data": {
      "text/html": [
       "<style>#sk-container-id-1 {color: black;background-color: white;}#sk-container-id-1 pre{padding: 0;}#sk-container-id-1 div.sk-toggleable {background-color: white;}#sk-container-id-1 label.sk-toggleable__label {cursor: pointer;display: block;width: 100%;margin-bottom: 0;padding: 0.3em;box-sizing: border-box;text-align: center;}#sk-container-id-1 label.sk-toggleable__label-arrow:before {content: \"▸\";float: left;margin-right: 0.25em;color: #696969;}#sk-container-id-1 label.sk-toggleable__label-arrow:hover:before {color: black;}#sk-container-id-1 div.sk-estimator:hover label.sk-toggleable__label-arrow:before {color: black;}#sk-container-id-1 div.sk-toggleable__content {max-height: 0;max-width: 0;overflow: hidden;text-align: left;background-color: #f0f8ff;}#sk-container-id-1 div.sk-toggleable__content pre {margin: 0.2em;color: black;border-radius: 0.25em;background-color: #f0f8ff;}#sk-container-id-1 input.sk-toggleable__control:checked~div.sk-toggleable__content {max-height: 200px;max-width: 100%;overflow: auto;}#sk-container-id-1 input.sk-toggleable__control:checked~label.sk-toggleable__label-arrow:before {content: \"▾\";}#sk-container-id-1 div.sk-estimator input.sk-toggleable__control:checked~label.sk-toggleable__label {background-color: #d4ebff;}#sk-container-id-1 div.sk-label input.sk-toggleable__control:checked~label.sk-toggleable__label {background-color: #d4ebff;}#sk-container-id-1 input.sk-hidden--visually {border: 0;clip: rect(1px 1px 1px 1px);clip: rect(1px, 1px, 1px, 1px);height: 1px;margin: -1px;overflow: hidden;padding: 0;position: absolute;width: 1px;}#sk-container-id-1 div.sk-estimator {font-family: monospace;background-color: #f0f8ff;border: 1px dotted black;border-radius: 0.25em;box-sizing: border-box;margin-bottom: 0.5em;}#sk-container-id-1 div.sk-estimator:hover {background-color: #d4ebff;}#sk-container-id-1 div.sk-parallel-item::after {content: \"\";width: 100%;border-bottom: 1px solid gray;flex-grow: 1;}#sk-container-id-1 div.sk-label:hover label.sk-toggleable__label {background-color: #d4ebff;}#sk-container-id-1 div.sk-serial::before {content: \"\";position: absolute;border-left: 1px solid gray;box-sizing: border-box;top: 0;bottom: 0;left: 50%;z-index: 0;}#sk-container-id-1 div.sk-serial {display: flex;flex-direction: column;align-items: center;background-color: white;padding-right: 0.2em;padding-left: 0.2em;position: relative;}#sk-container-id-1 div.sk-item {position: relative;z-index: 1;}#sk-container-id-1 div.sk-parallel {display: flex;align-items: stretch;justify-content: center;background-color: white;position: relative;}#sk-container-id-1 div.sk-item::before, #sk-container-id-1 div.sk-parallel-item::before {content: \"\";position: absolute;border-left: 1px solid gray;box-sizing: border-box;top: 0;bottom: 0;left: 50%;z-index: -1;}#sk-container-id-1 div.sk-parallel-item {display: flex;flex-direction: column;z-index: 1;position: relative;background-color: white;}#sk-container-id-1 div.sk-parallel-item:first-child::after {align-self: flex-end;width: 50%;}#sk-container-id-1 div.sk-parallel-item:last-child::after {align-self: flex-start;width: 50%;}#sk-container-id-1 div.sk-parallel-item:only-child::after {width: 0;}#sk-container-id-1 div.sk-dashed-wrapped {border: 1px dashed gray;margin: 0 0.4em 0.5em 0.4em;box-sizing: border-box;padding-bottom: 0.4em;background-color: white;}#sk-container-id-1 div.sk-label label {font-family: monospace;font-weight: bold;display: inline-block;line-height: 1.2em;}#sk-container-id-1 div.sk-label-container {text-align: center;}#sk-container-id-1 div.sk-container {/* jupyter's `normalize.less` sets `[hidden] { display: none; }` but bootstrap.min.css set `[hidden] { display: none !important; }` so we also need the `!important` here to be able to override the default hidden behavior on the sphinx rendered scikit-learn.org. See: https://github.com/scikit-learn/scikit-learn/issues/21755 */display: inline-block !important;position: relative;}#sk-container-id-1 div.sk-text-repr-fallback {display: none;}</style><div id=\"sk-container-id-1\" class=\"sk-top-container\"><div class=\"sk-text-repr-fallback\"><pre>SimpleImputer(strategy=&#x27;median&#x27;)</pre><b>In a Jupyter environment, please rerun this cell to show the HTML representation or trust the notebook. <br />On GitHub, the HTML representation is unable to render, please try loading this page with nbviewer.org.</b></div><div class=\"sk-container\" hidden><div class=\"sk-item\"><div class=\"sk-estimator sk-toggleable\"><input class=\"sk-toggleable__control sk-hidden--visually\" id=\"sk-estimator-id-1\" type=\"checkbox\" checked><label for=\"sk-estimator-id-1\" class=\"sk-toggleable__label sk-toggleable__label-arrow\">SimpleImputer</label><div class=\"sk-toggleable__content\"><pre>SimpleImputer(strategy=&#x27;median&#x27;)</pre></div></div></div></div></div>"
      ],
      "text/plain": [
       "SimpleImputer(strategy='median')"
      ]
     },
     "execution_count": 21,
     "metadata": {},
     "output_type": "execute_result"
    }
   ],
   "source": [
    "# we simply use function for above step for missing data\n",
    "from sklearn.impute import SimpleImputer\n",
    "imputer=SimpleImputer(strategy=\"median\")                                                       ## through this code we compute median for all the features and put it in a                                                         ##\n",
    "imputer.fit(housing)                                                            ## imputer runes afunction fit and put all the meadian in arrray name statistics_\n",
    "                                                           \n",
    "                                                     \n",
    "\n",
    "\n"
   ]
  },
  {
   "cell_type": "code",
   "execution_count": 22,
   "id": "a9ad77d2",
   "metadata": {},
   "outputs": [
    {
     "data": {
      "text/plain": [
       "array([2.86735e-01, 0.00000e+00, 9.90000e+00, 0.00000e+00, 5.38000e-01,\n",
       "       6.21750e+00, 7.82000e+01, 3.12220e+00, 5.00000e+00, 3.37000e+02,\n",
       "       1.90000e+01, 3.90960e+02, 1.15700e+01, 2.11500e+01])"
      ]
     },
     "execution_count": 22,
     "metadata": {},
     "output_type": "execute_result"
    }
   ],
   "source": [
    "imputer.statistics_"
   ]
  },
  {
   "cell_type": "code",
   "execution_count": 23,
   "id": "f916c32d",
   "metadata": {},
   "outputs": [],
   "source": [
    "x=imputer.transform(housing)      ## as it fills the vacent value and array of value of features\n",
    "                                          # now to display it we have to convert it into frame \n",
    "                                        ## as it is gives numpy array"
   ]
  },
  {
   "cell_type": "code",
   "execution_count": 24,
   "id": "cb1966f7",
   "metadata": {},
   "outputs": [],
   "source": [
    "housing_c=pd.DataFrame(x,columns=housing.columns)  ## perameters are array and heading of all the features"
   ]
  },
  {
   "cell_type": "code",
   "execution_count": 25,
   "id": "286af5c6",
   "metadata": {},
   "outputs": [
    {
     "data": {
      "text/html": [
       "<div>\n",
       "<style scoped>\n",
       "    .dataframe tbody tr th:only-of-type {\n",
       "        vertical-align: middle;\n",
       "    }\n",
       "\n",
       "    .dataframe tbody tr th {\n",
       "        vertical-align: top;\n",
       "    }\n",
       "\n",
       "    .dataframe thead th {\n",
       "        text-align: right;\n",
       "    }\n",
       "</style>\n",
       "<table border=\"1\" class=\"dataframe\">\n",
       "  <thead>\n",
       "    <tr style=\"text-align: right;\">\n",
       "      <th></th>\n",
       "      <th>CRIM</th>\n",
       "      <th>ZN</th>\n",
       "      <th>INDUS</th>\n",
       "      <th>TOP</th>\n",
       "      <th>NOX</th>\n",
       "      <th>SS</th>\n",
       "      <th>AGE</th>\n",
       "      <th>DIS</th>\n",
       "      <th>RAD</th>\n",
       "      <th>TAX</th>\n",
       "      <th>PTRATIO</th>\n",
       "      <th>B</th>\n",
       "      <th>LSTAT</th>\n",
       "      <th>MP</th>\n",
       "    </tr>\n",
       "  </thead>\n",
       "  <tbody>\n",
       "    <tr>\n",
       "      <th>count</th>\n",
       "      <td>404.000000</td>\n",
       "      <td>404.000000</td>\n",
       "      <td>404.000000</td>\n",
       "      <td>404.000000</td>\n",
       "      <td>404.000000</td>\n",
       "      <td>404.000000</td>\n",
       "      <td>404.000000</td>\n",
       "      <td>404.000000</td>\n",
       "      <td>404.000000</td>\n",
       "      <td>404.000000</td>\n",
       "      <td>404.000000</td>\n",
       "      <td>404.000000</td>\n",
       "      <td>404.000000</td>\n",
       "      <td>404.000000</td>\n",
       "    </tr>\n",
       "    <tr>\n",
       "      <th>mean</th>\n",
       "      <td>3.602814</td>\n",
       "      <td>10.836634</td>\n",
       "      <td>11.349307</td>\n",
       "      <td>0.069307</td>\n",
       "      <td>0.558064</td>\n",
       "      <td>6.282173</td>\n",
       "      <td>69.039851</td>\n",
       "      <td>3.746210</td>\n",
       "      <td>9.737624</td>\n",
       "      <td>412.415842</td>\n",
       "      <td>18.473267</td>\n",
       "      <td>353.645223</td>\n",
       "      <td>12.791609</td>\n",
       "      <td>22.509406</td>\n",
       "    </tr>\n",
       "    <tr>\n",
       "      <th>std</th>\n",
       "      <td>8.099383</td>\n",
       "      <td>22.150636</td>\n",
       "      <td>6.876339</td>\n",
       "      <td>0.254290</td>\n",
       "      <td>0.116875</td>\n",
       "      <td>0.712232</td>\n",
       "      <td>28.258248</td>\n",
       "      <td>2.099057</td>\n",
       "      <td>8.729771</td>\n",
       "      <td>168.632731</td>\n",
       "      <td>2.129243</td>\n",
       "      <td>96.033556</td>\n",
       "      <td>7.235740</td>\n",
       "      <td>9.385531</td>\n",
       "    </tr>\n",
       "    <tr>\n",
       "      <th>min</th>\n",
       "      <td>0.006320</td>\n",
       "      <td>0.000000</td>\n",
       "      <td>0.740000</td>\n",
       "      <td>0.000000</td>\n",
       "      <td>0.389000</td>\n",
       "      <td>3.561000</td>\n",
       "      <td>2.900000</td>\n",
       "      <td>1.129600</td>\n",
       "      <td>1.000000</td>\n",
       "      <td>187.000000</td>\n",
       "      <td>13.000000</td>\n",
       "      <td>0.320000</td>\n",
       "      <td>1.730000</td>\n",
       "      <td>5.000000</td>\n",
       "    </tr>\n",
       "    <tr>\n",
       "      <th>25%</th>\n",
       "      <td>0.086962</td>\n",
       "      <td>0.000000</td>\n",
       "      <td>5.190000</td>\n",
       "      <td>0.000000</td>\n",
       "      <td>0.453000</td>\n",
       "      <td>5.879750</td>\n",
       "      <td>44.850000</td>\n",
       "      <td>2.035975</td>\n",
       "      <td>4.000000</td>\n",
       "      <td>284.000000</td>\n",
       "      <td>17.400000</td>\n",
       "      <td>374.702500</td>\n",
       "      <td>6.847500</td>\n",
       "      <td>16.600000</td>\n",
       "    </tr>\n",
       "    <tr>\n",
       "      <th>50%</th>\n",
       "      <td>0.286735</td>\n",
       "      <td>0.000000</td>\n",
       "      <td>9.900000</td>\n",
       "      <td>0.000000</td>\n",
       "      <td>0.538000</td>\n",
       "      <td>6.217500</td>\n",
       "      <td>78.200000</td>\n",
       "      <td>3.122200</td>\n",
       "      <td>5.000000</td>\n",
       "      <td>337.000000</td>\n",
       "      <td>19.000000</td>\n",
       "      <td>390.960000</td>\n",
       "      <td>11.570000</td>\n",
       "      <td>21.150000</td>\n",
       "    </tr>\n",
       "    <tr>\n",
       "      <th>75%</th>\n",
       "      <td>3.731923</td>\n",
       "      <td>12.500000</td>\n",
       "      <td>18.100000</td>\n",
       "      <td>0.000000</td>\n",
       "      <td>0.631000</td>\n",
       "      <td>6.630250</td>\n",
       "      <td>94.100000</td>\n",
       "      <td>5.100400</td>\n",
       "      <td>24.000000</td>\n",
       "      <td>666.000000</td>\n",
       "      <td>20.200000</td>\n",
       "      <td>395.630000</td>\n",
       "      <td>17.102500</td>\n",
       "      <td>25.000000</td>\n",
       "    </tr>\n",
       "    <tr>\n",
       "      <th>max</th>\n",
       "      <td>73.534100</td>\n",
       "      <td>100.000000</td>\n",
       "      <td>27.740000</td>\n",
       "      <td>1.000000</td>\n",
       "      <td>0.871000</td>\n",
       "      <td>8.780000</td>\n",
       "      <td>100.000000</td>\n",
       "      <td>12.126500</td>\n",
       "      <td>24.000000</td>\n",
       "      <td>711.000000</td>\n",
       "      <td>22.000000</td>\n",
       "      <td>396.900000</td>\n",
       "      <td>36.980000</td>\n",
       "      <td>50.000000</td>\n",
       "    </tr>\n",
       "  </tbody>\n",
       "</table>\n",
       "</div>"
      ],
      "text/plain": [
       "             CRIM          ZN      INDUS          TOP         NOX          SS  \\\n",
       "count  404.000000  404.000000  404.000000  404.000000  404.000000  404.000000   \n",
       "mean     3.602814   10.836634   11.349307    0.069307    0.558064    6.282173   \n",
       "std      8.099383   22.150636    6.876339    0.254290    0.116875    0.712232   \n",
       "min      0.006320    0.000000    0.740000    0.000000    0.389000    3.561000   \n",
       "25%      0.086962    0.000000    5.190000    0.000000    0.453000    5.879750   \n",
       "50%      0.286735    0.000000    9.900000    0.000000    0.538000    6.217500   \n",
       "75%      3.731923   12.500000   18.100000    0.000000    0.631000    6.630250   \n",
       "max     73.534100  100.000000   27.740000    1.000000    0.871000    8.780000   \n",
       "\n",
       "              AGE         DIS        RAD          TAX     PTRATIO          B   \\\n",
       "count  404.000000  404.000000  404.000000  404.000000  404.000000  404.000000   \n",
       "mean    69.039851    3.746210    9.737624  412.415842   18.473267  353.645223   \n",
       "std     28.258248    2.099057    8.729771  168.632731    2.129243   96.033556   \n",
       "min      2.900000    1.129600    1.000000  187.000000   13.000000    0.320000   \n",
       "25%     44.850000    2.035975    4.000000  284.000000   17.400000  374.702500   \n",
       "50%     78.200000    3.122200    5.000000  337.000000   19.000000  390.960000   \n",
       "75%     94.100000    5.100400   24.000000  666.000000   20.200000  395.630000   \n",
       "max    100.000000   12.126500   24.000000  711.000000   22.000000  396.900000   \n",
       "\n",
       "            LSTAT          MP  \n",
       "count  404.000000  404.000000  \n",
       "mean    12.791609   22.509406  \n",
       "std      7.235740    9.385531  \n",
       "min      1.730000    5.000000  \n",
       "25%      6.847500   16.600000  \n",
       "50%     11.570000   21.150000  \n",
       "75%     17.102500   25.000000  \n",
       "max     36.980000   50.000000  "
      ]
     },
     "execution_count": 25,
     "metadata": {},
     "output_type": "execute_result"
    }
   ],
   "source": [
    "housing_c.describe()"
   ]
  },
  {
   "cell_type": "markdown",
   "id": "36f523c6",
   "metadata": {},
   "source": [
    "# Scikit-learn Design it is module"
   ]
  },
  {
   "cell_type": "code",
   "execution_count": 26,
   "id": "eaac8a12",
   "metadata": {},
   "outputs": [],
   "source": [
    "#primarily ,three types of objects                               see later\n",
    "#1.Estimators-"
   ]
  },
  {
   "cell_type": "code",
   "execution_count": 27,
   "id": "83be80a9",
   "metadata": {},
   "outputs": [],
   "source": [
    "housing =start_train_set.drop(\"MP\",axis=1)\n",
    "housing_label=start_train_set[\"MP\"].copy()"
   ]
  },
  {
   "cell_type": "markdown",
   "id": "790ff812",
   "metadata": {},
   "source": [
    "# # feature Scaling "
   ]
  },
  {
   "cell_type": "code",
   "execution_count": 28,
   "id": "c5b1ada1",
   "metadata": {},
   "outputs": [],
   "source": [
    "##To interpret these features on same scale we need to perform feaure scaling\n",
    "##means making values of features in a same scale(same range)\n",
    "#two ways to doing it\n",
    "#1.Min-max scaling or normalization\n",
    "   #  (value-min)/(max-min)\n",
    "    #Sklearn provides A class for this called MinMaxScalar\n",
    "#2. Standardization\n",
    "    #(value-mean)/std                        (standerd deviation)\n",
    "    #Sklearn provides A class for this called Standard Scaler for this"
   ]
  },
  {
   "cell_type": "markdown",
   "id": "3dfb9302",
   "metadata": {},
   "source": [
    "# Creating a pipeline\n",
    "## means kuch esa kam karna ki apan model ko automate kar sake ,series of steps kar sake"
   ]
  },
  {
   "cell_type": "code",
   "execution_count": 29,
   "id": "baebaa1a",
   "metadata": {},
   "outputs": [],
   "source": [
    "## all this things like filling the missing data ,feature scaling we can put in pipeline As we all have to in a pipeline not as we do above"
   ]
  },
  {
   "cell_type": "code",
   "execution_count": 30,
   "id": "c567cb45",
   "metadata": {},
   "outputs": [],
   "source": [
    "from sklearn.pipeline import Pipeline\n",
    "from sklearn.preprocessing import StandardScaler \n",
    "from sklearn.impute import SimpleImputer                                                           \n",
    "my_pipeline=Pipeline([\n",
    "            ('imputer',SimpleImputer(strategy=\"median\")),\n",
    "            #...add as many things that you want\n",
    "             ('std_scaler',StandardScaler()), \n",
    "])             "
   ]
  },
  {
   "cell_type": "code",
   "execution_count": 31,
   "id": "3835abc3",
   "metadata": {},
   "outputs": [],
   "source": [
    "housing_num_tr=my_pipeline.fit_transform(housing)"
   ]
  },
  {
   "cell_type": "code",
   "execution_count": 32,
   "id": "e0cf0ace",
   "metadata": {},
   "outputs": [
    {
     "data": {
      "text/plain": [
       "array([[-0.43942006,  3.12628155, -1.12252553, ..., -0.97491834,\n",
       "         0.40916362, -0.86091034],\n",
       "       [-0.44352175,  3.12628155, -1.35986419, ..., -0.69277865,\n",
       "         0.38883304, -0.94116739],\n",
       "       [ 0.15682292, -0.4898311 ,  0.98294508, ...,  0.81196637,\n",
       "         0.44377774,  0.81480158],\n",
       "       ...,\n",
       "       [-0.43525657, -0.4898311 , -1.23173043, ..., -0.22254583,\n",
       "         0.41583622, -1.27603303],\n",
       "       [ 0.14210728, -0.4898311 ,  0.98294508, ...,  0.81196637,\n",
       "        -3.15619448,  0.73869575],\n",
       "       [-0.43974024, -0.4898311 ,  0.36994153, ..., -0.97491834,\n",
       "         0.40822529,  0.09940681]])"
      ]
     },
     "execution_count": 32,
     "metadata": {},
     "output_type": "execute_result"
    }
   ],
   "source": [
    "housing_num_tr                        ## nump array"
   ]
  },
  {
   "cell_type": "code",
   "execution_count": null,
   "id": "0bd2d1b3",
   "metadata": {},
   "outputs": [],
   "source": []
  },
  {
   "cell_type": "markdown",
   "id": "c24ce048",
   "metadata": {},
   "source": [
    "## choosing differnent ml models"
   ]
  },
  {
   "cell_type": "code",
   "execution_count": 33,
   "id": "a346cc0c",
   "metadata": {},
   "outputs": [
    {
     "data": {
      "text/html": [
       "<style>#sk-container-id-2 {color: black;background-color: white;}#sk-container-id-2 pre{padding: 0;}#sk-container-id-2 div.sk-toggleable {background-color: white;}#sk-container-id-2 label.sk-toggleable__label {cursor: pointer;display: block;width: 100%;margin-bottom: 0;padding: 0.3em;box-sizing: border-box;text-align: center;}#sk-container-id-2 label.sk-toggleable__label-arrow:before {content: \"▸\";float: left;margin-right: 0.25em;color: #696969;}#sk-container-id-2 label.sk-toggleable__label-arrow:hover:before {color: black;}#sk-container-id-2 div.sk-estimator:hover label.sk-toggleable__label-arrow:before {color: black;}#sk-container-id-2 div.sk-toggleable__content {max-height: 0;max-width: 0;overflow: hidden;text-align: left;background-color: #f0f8ff;}#sk-container-id-2 div.sk-toggleable__content pre {margin: 0.2em;color: black;border-radius: 0.25em;background-color: #f0f8ff;}#sk-container-id-2 input.sk-toggleable__control:checked~div.sk-toggleable__content {max-height: 200px;max-width: 100%;overflow: auto;}#sk-container-id-2 input.sk-toggleable__control:checked~label.sk-toggleable__label-arrow:before {content: \"▾\";}#sk-container-id-2 div.sk-estimator input.sk-toggleable__control:checked~label.sk-toggleable__label {background-color: #d4ebff;}#sk-container-id-2 div.sk-label input.sk-toggleable__control:checked~label.sk-toggleable__label {background-color: #d4ebff;}#sk-container-id-2 input.sk-hidden--visually {border: 0;clip: rect(1px 1px 1px 1px);clip: rect(1px, 1px, 1px, 1px);height: 1px;margin: -1px;overflow: hidden;padding: 0;position: absolute;width: 1px;}#sk-container-id-2 div.sk-estimator {font-family: monospace;background-color: #f0f8ff;border: 1px dotted black;border-radius: 0.25em;box-sizing: border-box;margin-bottom: 0.5em;}#sk-container-id-2 div.sk-estimator:hover {background-color: #d4ebff;}#sk-container-id-2 div.sk-parallel-item::after {content: \"\";width: 100%;border-bottom: 1px solid gray;flex-grow: 1;}#sk-container-id-2 div.sk-label:hover label.sk-toggleable__label {background-color: #d4ebff;}#sk-container-id-2 div.sk-serial::before {content: \"\";position: absolute;border-left: 1px solid gray;box-sizing: border-box;top: 0;bottom: 0;left: 50%;z-index: 0;}#sk-container-id-2 div.sk-serial {display: flex;flex-direction: column;align-items: center;background-color: white;padding-right: 0.2em;padding-left: 0.2em;position: relative;}#sk-container-id-2 div.sk-item {position: relative;z-index: 1;}#sk-container-id-2 div.sk-parallel {display: flex;align-items: stretch;justify-content: center;background-color: white;position: relative;}#sk-container-id-2 div.sk-item::before, #sk-container-id-2 div.sk-parallel-item::before {content: \"\";position: absolute;border-left: 1px solid gray;box-sizing: border-box;top: 0;bottom: 0;left: 50%;z-index: -1;}#sk-container-id-2 div.sk-parallel-item {display: flex;flex-direction: column;z-index: 1;position: relative;background-color: white;}#sk-container-id-2 div.sk-parallel-item:first-child::after {align-self: flex-end;width: 50%;}#sk-container-id-2 div.sk-parallel-item:last-child::after {align-self: flex-start;width: 50%;}#sk-container-id-2 div.sk-parallel-item:only-child::after {width: 0;}#sk-container-id-2 div.sk-dashed-wrapped {border: 1px dashed gray;margin: 0 0.4em 0.5em 0.4em;box-sizing: border-box;padding-bottom: 0.4em;background-color: white;}#sk-container-id-2 div.sk-label label {font-family: monospace;font-weight: bold;display: inline-block;line-height: 1.2em;}#sk-container-id-2 div.sk-label-container {text-align: center;}#sk-container-id-2 div.sk-container {/* jupyter's `normalize.less` sets `[hidden] { display: none; }` but bootstrap.min.css set `[hidden] { display: none !important; }` so we also need the `!important` here to be able to override the default hidden behavior on the sphinx rendered scikit-learn.org. See: https://github.com/scikit-learn/scikit-learn/issues/21755 */display: inline-block !important;position: relative;}#sk-container-id-2 div.sk-text-repr-fallback {display: none;}</style><div id=\"sk-container-id-2\" class=\"sk-top-container\"><div class=\"sk-text-repr-fallback\"><pre>DecisionTreeRegressor()</pre><b>In a Jupyter environment, please rerun this cell to show the HTML representation or trust the notebook. <br />On GitHub, the HTML representation is unable to render, please try loading this page with nbviewer.org.</b></div><div class=\"sk-container\" hidden><div class=\"sk-item\"><div class=\"sk-estimator sk-toggleable\"><input class=\"sk-toggleable__control sk-hidden--visually\" id=\"sk-estimator-id-2\" type=\"checkbox\" checked><label for=\"sk-estimator-id-2\" class=\"sk-toggleable__label sk-toggleable__label-arrow\">DecisionTreeRegressor</label><div class=\"sk-toggleable__content\"><pre>DecisionTreeRegressor()</pre></div></div></div></div></div>"
      ],
      "text/plain": [
       "DecisionTreeRegressor()"
      ]
     },
     "execution_count": 33,
     "metadata": {},
     "output_type": "execute_result"
    }
   ],
   "source": [
    "from sklearn.linear_model import LinearRegression\n",
    "from sklearn.tree import DecisionTreeRegressor\n",
    "from sklearn.ensemble import RandomForestRegressor\n",
    "##model=RandomForestRegressor()\n",
    "model=DecisionTreeRegressor()\n",
    "model.fit(housing_num_tr,housing_label) ## numpy array takes as a perameter"
   ]
  },
  {
   "cell_type": "code",
   "execution_count": 34,
   "id": "a6519f5d",
   "metadata": {},
   "outputs": [],
   "source": [
    "## here we have to check prediction before apply on test data we check with some small trainee data\n"
   ]
  },
  {
   "cell_type": "code",
   "execution_count": 35,
   "id": "763d0aad",
   "metadata": {},
   "outputs": [],
   "source": [
    "some_data= housing.iloc[:5]\n"
   ]
  },
  {
   "cell_type": "code",
   "execution_count": 36,
   "id": "c29cbc32",
   "metadata": {},
   "outputs": [],
   "source": [
    "some_labels=housing_label[:5]"
   ]
  },
  {
   "cell_type": "code",
   "execution_count": 37,
   "id": "580ebca2",
   "metadata": {},
   "outputs": [],
   "source": [
    "prepared_data=my_pipeline.transform(some_data)"
   ]
  },
  {
   "cell_type": "code",
   "execution_count": 38,
   "id": "c7ef2fb8",
   "metadata": {},
   "outputs": [
    {
     "data": {
      "text/plain": [
       "array([21.9, 24.5, 16.7, 23.1, 23. ])"
      ]
     },
     "execution_count": 38,
     "metadata": {},
     "output_type": "execute_result"
    }
   ],
   "source": [
    "model.predict(prepared_data)"
   ]
  },
  {
   "cell_type": "code",
   "execution_count": 39,
   "id": "9ecb48cc",
   "metadata": {},
   "outputs": [],
   "source": [
    "## check prediction with our labels of trainee data \n"
   ]
  },
  {
   "cell_type": "code",
   "execution_count": 40,
   "id": "35a19252",
   "metadata": {},
   "outputs": [
    {
     "data": {
      "text/plain": [
       "[21.9, 24.5, 16.7, 23.1, 23.0]"
      ]
     },
     "execution_count": 40,
     "metadata": {},
     "output_type": "execute_result"
    }
   ],
   "source": [
    "list(some_labels)"
   ]
  },
  {
   "cell_type": "code",
   "execution_count": 41,
   "id": "5cc0c8ba",
   "metadata": {},
   "outputs": [],
   "source": [
    "from sklearn.metrics import mean_squared_error\n",
    "import numpy as np\n",
    "housing_predictions=model.predict(housing_num_tr)\n",
    "mse=mean_squared_error(housing_label,housing_predictions)\n",
    "rmse=np.sqrt(mse)"
   ]
  },
  {
   "cell_type": "code",
   "execution_count": 42,
   "id": "b1986211",
   "metadata": {},
   "outputs": [
    {
     "data": {
      "text/plain": [
       "0.0"
      ]
     },
     "execution_count": 42,
     "metadata": {},
     "output_type": "execute_result"
    }
   ],
   "source": [
    "rmse"
   ]
  },
  {
   "cell_type": "markdown",
   "id": "c8aa71cd",
   "metadata": {},
   "source": [
    "## better evalusion technique coss validation\n"
   ]
  },
  {
   "cell_type": "code",
   "execution_count": 43,
   "id": "a3123d7b",
   "metadata": {},
   "outputs": [],
   "source": [
    "from sklearn.model_selection import cross_val_score\n",
    "score=cross_val_score(model,housing_num_tr,housing_label,scoring=\"neg_mean_squared_error\",cv=10)\n",
    "rmse_score=np.sqrt(-score)"
   ]
  },
  {
   "cell_type": "code",
   "execution_count": 44,
   "id": "3b79b1c5",
   "metadata": {},
   "outputs": [],
   "source": [
    "def print_score(scores):\n",
    "    print(\"rmse_score\",scores)\n",
    "    print(\"mean\",scores.mean())\n",
    "    print(\"standard deviation\",scores.std())\n",
    "    "
   ]
  },
  {
   "cell_type": "code",
   "execution_count": 45,
   "id": "ab7a54f4",
   "metadata": {},
   "outputs": [
    {
     "name": "stdout",
     "output_type": "stream",
     "text": [
      "rmse_score [3.90721659 5.75313276 5.30921886 4.03983216 4.06589474 2.80298948\n",
      " 6.77065359 3.9766506  3.28481354 3.68758051]\n",
      "mean 4.359798281850965\n",
      "standard deviation 1.1500659218045703\n"
     ]
    }
   ],
   "source": [
    "print_score(rmse_score)"
   ]
  },
  {
   "cell_type": "code",
   "execution_count": 46,
   "id": "5d435f81",
   "metadata": {},
   "outputs": [],
   "source": [
    "## saving the ml model we select random forest model"
   ]
  },
  {
   "cell_type": "code",
   "execution_count": 47,
   "id": "699ff915",
   "metadata": {},
   "outputs": [
    {
     "data": {
      "text/plain": [
       "['savemodel.joblib']"
      ]
     },
     "execution_count": 47,
     "metadata": {},
     "output_type": "execute_result"
    }
   ],
   "source": [
    "from joblib import dump, load\n",
    "dump(model, 'savemodel.joblib')"
   ]
  },
  {
   "cell_type": "code",
   "execution_count": 48,
   "id": "6fef8e04",
   "metadata": {},
   "outputs": [],
   "source": [
    "X_testdata =start_test_set.drop(\"MP\",axis=1)\n",
    "Y_testresult=start_test_set[\"MP\"].copy()\n",
    "X_testdata_t = my_pipeline.transform(X_testdata)\n",
    "X_predict=model.predict(X_testdata_t)\n",
    "mse=mean_squared_error(Y_testresult,X_predict)\n",
    "rmse=np.sqrt(mse)\n",
    "\n",
    "\n"
   ]
  },
  {
   "cell_type": "code",
   "execution_count": 49,
   "id": "66100481",
   "metadata": {},
   "outputs": [
    {
     "data": {
      "text/plain": [
       "4.34023582986265"
      ]
     },
     "execution_count": 49,
     "metadata": {},
     "output_type": "execute_result"
    }
   ],
   "source": [
    "rmse"
   ]
  },
  {
   "cell_type": "code",
   "execution_count": 50,
   "id": "5a0e7877",
   "metadata": {},
   "outputs": [
    {
     "data": {
      "text/plain": [
       "array([30.5, 10.9, 29. , 23.3, 20. , 13.9, 22.4, 11.5, 28.7, 43.5, 21.7,\n",
       "       10.9, 23.1, 23.1, 19. , 11.3, 28.7, 15.6, 23.1, 16.6, 23. , 14.3,\n",
       "       10.9, 21.7, 16.1, 35.1, 17.1, 35.1, 10.2, 28.7, 18.5, 19.3, 22.6,\n",
       "       10.9, 18.5,  8.3, 48.8, 21.2, 24.6, 46. , 25. , 22.8, 22.8, 19.6,\n",
       "       14.3, 31.7, 48.3, 19. , 21.9, 18.6, 19.4, 13.1, 22.4, 17.1, 28.6,\n",
       "       31.7, 37.6, 31.5, 18.3, 19.9, 50. ,  6.3, 17.5, 28.7, 18.1, 28.7,\n",
       "       17.4, 13.4, 22.7, 35.4, 22.5, 22.6, 16. , 23.9, 34.7, 12.7, 15.6,\n",
       "       19.6, 21. , 19.9, 22.9, 19.9, 13.4, 20.5, 26.4, 21. ,  8.7, 23.1,\n",
       "       25. , 23.2, 20.2, 22. ,  5.6, 29.1, 21.9, 30.1, 16.2, 34.7,  8.5,\n",
       "       28.6, 22. , 18.8])"
      ]
     },
     "execution_count": 50,
     "metadata": {},
     "output_type": "execute_result"
    }
   ],
   "source": [
    "X_predict"
   ]
  },
  {
   "cell_type": "code",
   "execution_count": 51,
   "id": "c732059a",
   "metadata": {},
   "outputs": [
    {
     "data": {
      "text/plain": [
       "342    16.5\n",
       "379    10.2\n",
       "223    30.1\n",
       "219    23.0\n",
       "48     14.4\n",
       "       ... \n",
       "88     23.6\n",
       "466    19.0\n",
       "52     25.0\n",
       "121    20.3\n",
       "218    21.5\n",
       "Name: MP, Length: 102, dtype: float64"
      ]
     },
     "execution_count": 51,
     "metadata": {},
     "output_type": "execute_result"
    }
   ],
   "source": [
    "Y_testresult"
   ]
  },
  {
   "cell_type": "code",
   "execution_count": 52,
   "id": "c27627d6",
   "metadata": {},
   "outputs": [],
   "source": [
    "import pickle"
   ]
  },
  {
   "cell_type": "code",
   "execution_count": 53,
   "id": "9c2981aa",
   "metadata": {},
   "outputs": [],
   "source": [
    "pickle.dump(housing_num_tr, open('modlml.pk1','wb'))"
   ]
  },
  {
   "cell_type": "code",
   "execution_count": null,
   "id": "b081a441",
   "metadata": {},
   "outputs": [],
   "source": []
  },
  {
   "cell_type": "code",
   "execution_count": null,
   "id": "807e6401",
   "metadata": {},
   "outputs": [],
   "source": []
  }
 ],
 "metadata": {
  "kernelspec": {
   "display_name": "Python 3 (ipykernel)",
   "language": "python",
   "name": "python3"
  },
  "language_info": {
   "codemirror_mode": {
    "name": "ipython",
    "version": 3
   },
   "file_extension": ".py",
   "mimetype": "text/x-python",
   "name": "python",
   "nbconvert_exporter": "python",
   "pygments_lexer": "ipython3",
   "version": "3.10.6"
  }
 },
 "nbformat": 4,
 "nbformat_minor": 5
}
