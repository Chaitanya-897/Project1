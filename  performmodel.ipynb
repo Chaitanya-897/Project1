{
 "cells": [
  {
   "cell_type": "code",
   "execution_count": 3,
   "id": "015bfb19",
   "metadata": {
    "scrolled": true
   },
   "outputs": [],
   "source": [
    "from joblib import dump, load\n",
    "import numpy as np\n",
    "model=load( 'savemodel.joblib')"
   ]
  },
  {
   "cell_type": "code",
   "execution_count": 5,
   "id": "02d9f8b2",
   "metadata": {},
   "outputs": [
    {
     "data": {
      "text/plain": [
       "array([22.147])"
      ]
     },
     "execution_count": 5,
     "metadata": {},
     "output_type": "execute_result"
    }
   ],
   "source": [
    "   input_d = np.array([[0.02729,0,7.07,0,0.469,7.185,61.1,4.9671,2,242,17.8,392.83,4.03]])\n",
    "   model.predict(input_d)"
   ]
  },
  {
   "cell_type": "code",
   "execution_count": null,
   "id": "37145b30",
   "metadata": {},
   "outputs": [],
   "source": []
  }
 ],
 "metadata": {
  "kernelspec": {
   "display_name": "Python 3 (ipykernel)",
   "language": "python",
   "name": "python3"
  },
  "language_info": {
   "codemirror_mode": {
    "name": "ipython",
    "version": 3
   },
   "file_extension": ".py",
   "mimetype": "text/x-python",
   "name": "python",
   "nbconvert_exporter": "python",
   "pygments_lexer": "ipython3",
   "version": "3.10.6"
  }
 },
 "nbformat": 4,
 "nbformat_minor": 5
}
